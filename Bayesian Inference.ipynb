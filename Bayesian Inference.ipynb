{
 "cells": [
  {
   "cell_type": "markdown",
   "metadata": {},
   "source": [
    "# Bayesian Inference"
   ]
  },
  {
   "cell_type": "code",
   "execution_count": 1,
   "metadata": {},
   "outputs": [],
   "source": [
    "from itertools import product"
   ]
  },
  {
   "cell_type": "code",
   "execution_count": 2,
   "metadata": {},
   "outputs": [],
   "source": [
    "# compute P[X_3 | X_2 , X_6 ]\n",
    "def factor1(x):\n",
    "    if x[1]==0 and x[5]==0:\n",
    "        return (0.6 if x[2]==0 else 1-0.6)\n",
    "    if x[1]==0 and x[5]==1:\n",
    "        return (0.3 if x[2]==0 else 1-0.3)\n",
    "    if x[1]==1 and x[5]==0:\n",
    "        return (0.1 if x[2]==0 else 1-0.1)\n",
    "    if x[1]==1 and x[5]==1:\n",
    "        return (0.0 if x[2]==0 else 1-0.0)"
   ]
  },
  {
   "cell_type": "code",
   "execution_count": 3,
   "metadata": {},
   "outputs": [],
   "source": [
    "# compute P[X_2 | X_1 , X_4 ]\n",
    "def factor2(x):\n",
    "    if x[0]==0 and x[3]==0:\n",
    "        return (0.0 if x[1]==0 else 1-0.0)\n",
    "    if x[0]==0 and x[3]==1:\n",
    "        return (0.8 if x[1]==0 else 1-0.8)\n",
    "    if x[0]==1 and x[3]==0:\n",
    "        return (0.4 if x[1]==0 else 1-0.4)\n",
    "    if x[0]==1 and x[3]==1:\n",
    "        return (0.9 if x[1]==0 else 1-0.9)"
   ]
  },
  {
   "cell_type": "code",
   "execution_count": 4,
   "metadata": {},
   "outputs": [],
   "source": [
    "# compute P[X_6 | X_5 ]\n",
    "def factor3(x):\n",
    "    if x[4]==0:\n",
    "        return (0.9 if x[5]==0 else 1-0.9)\n",
    "    if x[4]==1:\n",
    "        return (0.4 if x[5]==0 else 1-0.4)"
   ]
  },
  {
   "cell_type": "code",
   "execution_count": 5,
   "metadata": {},
   "outputs": [],
   "source": [
    "# compute P[X_4 | X_5 ]\n",
    "def factor4(x):\n",
    "    if x[4]==0:\n",
    "        return (0.8 if x[3]==0 else 1-0.8)\n",
    "    if x[4]==1:\n",
    "        return (0.2 if x[3]==0 else 1-0.2)"
   ]
  },
  {
   "cell_type": "code",
   "execution_count": 6,
   "metadata": {},
   "outputs": [],
   "source": [
    "# compute P[ X_5 ]\n",
    "def factor5(x):\n",
    "    return (0.6 if x[4]==0 else 1-0.6)"
   ]
  },
  {
   "cell_type": "code",
   "execution_count": 7,
   "metadata": {},
   "outputs": [],
   "source": [
    "# compute P[ X_1 ]\n",
    "def factor6(x):\n",
    "    return (0.3 if x[0]==0 else 1-0.3)"
   ]
  },
  {
   "cell_type": "code",
   "execution_count": 8,
   "metadata": {},
   "outputs": [],
   "source": [
    "# x = [x1,x2,x3,x4,x5,x6] is a configuration\n",
    "# compute the probability of the configuration x\n",
    "def prob_for_config(x):\n",
    "    return factor6(x) * factor5(x) * factor4(x) * factor3(x) * factor2(x) * factor1(x)"
   ]
  },
  {
   "cell_type": "code",
   "execution_count": 9,
   "metadata": {},
   "outputs": [],
   "source": [
    "# this is a function to generate a configuration\n",
    "# when x is a partial configuration\n",
    "# and q contains the values to be substituted (see the comment for the next function)\n",
    "def replace_uncertain(x,q):\n",
    "    xl = list(x)\n",
    "    i = 0\n",
    "    for j in range(len(xl)):\n",
    "        if xl[j] == -1:\n",
    "            xl[j] = q[i]\n",
    "            i += 1\n",
    "    return xl"
   ]
  },
  {
   "cell_type": "code",
   "execution_count": 10,
   "metadata": {},
   "outputs": [],
   "source": [
    "# x = [x1,x2,x3,x4,x5,x6] is a partial configuration\n",
    "# when xi = -1, it means we do not fix the value of xi, so xi can take value 0 or 1\n",
    "# for instance, if we want to compute P[ X_1 = 1 , X_3 = 0 , X_5 = 0 ]\n",
    "# x should be [1,-1,0,-1,0,-1]\n",
    "# when q = [1,0,1], the values in q are used to replace the -1 in partial configuration x\n",
    "# for instance, replace_uncertain( [1,-1,0,-1,0,-1] , [1,0,1] ) will return [1,1,0,0,0,1]\n",
    "def prob(x):\n",
    "    uncertain = x.count(-1)\n",
    "    s = 0.0\n",
    "    for q in product( [0,1] , repeat = uncertain ):\n",
    "        s += prob_for_config( replace_uncertain(x,q) )\n",
    "    return s"
   ]
  },
  {
   "cell_type": "code",
   "execution_count": 11,
   "metadata": {},
   "outputs": [
    {
     "name": "stdout",
     "output_type": "stream",
     "text": [
      "P[X3 = 0 | X1=1 , X5=0] = 0.33\n",
      "P[X3 = 0 | X1=0 , X5=0] = 0.1668\n"
     ]
    }
   ],
   "source": [
    "print(\"P[X3 = 0 | X1=1 , X5=0] = \" + str( round(prob([1,-1,0,-1,0,-1]) / prob([1,-1,-1,-1,0,-1]) ,6)))\n",
    "print(\"P[X3 = 0 | X1=0 , X5=0] = \" + str( round(prob([0,-1,0,-1,0,-1]) / prob([0,-1,-1,-1,0,-1]) ,6)))"
   ]
  },
  {
   "cell_type": "code",
   "execution_count": null,
   "metadata": {},
   "outputs": [],
   "source": []
  },
  {
   "cell_type": "code",
   "execution_count": null,
   "metadata": {},
   "outputs": [],
   "source": []
  },
  {
   "cell_type": "code",
   "execution_count": null,
   "metadata": {},
   "outputs": [],
   "source": []
  },
  {
   "cell_type": "code",
   "execution_count": null,
   "metadata": {},
   "outputs": [],
   "source": []
  }
 ],
 "metadata": {
  "kernelspec": {
   "display_name": "Python 3",
   "language": "python",
   "name": "python3"
  },
  "language_info": {
   "codemirror_mode": {
    "name": "ipython",
    "version": 3
   },
   "file_extension": ".py",
   "mimetype": "text/x-python",
   "name": "python",
   "nbconvert_exporter": "python",
   "pygments_lexer": "ipython3",
   "version": "3.8.5"
  }
 },
 "nbformat": 4,
 "nbformat_minor": 4
}
